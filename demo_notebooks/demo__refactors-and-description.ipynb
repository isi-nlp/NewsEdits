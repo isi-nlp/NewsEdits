{
 "cells": [
  {
   "cell_type": "markdown",
   "metadata": {},
   "source": [
    "# Refactors\n",
    "\n",
    "In the _NewsEdits_ paper, we describe an algorithm for identifying sentences that have been `refactor`ed, and we describe the algorithm described in Appendix F.1, https://aclanthology.org/2022.naacl-main.10.pdf. However, we don't come close to fully exploring this rich topic. \n",
    "\n",
    "A refactored sentence is a sentence that has been purposefully moved in the document.\n",
    "\n",
    "Please refer to the slideshow in this directory, https://github.com/isi-nlp/NewsEdits/blob/main/demo_notebooks/Refactoring%20Examples%20and%20Edge%20Cases.pdf, for a visualized description of the algorithm and tricky edge cases in order to better understand how our heuristic algorithm works to identify refactors."
   ]
  },
  {
   "cell_type": "code",
   "execution_count": 60,
   "metadata": {},
   "outputs": [],
   "source": [
    "import sqlite3\n",
    "import pandas as pd\n",
    "import sys\n",
    "sys.path.insert(0, '../util')\n",
    "import util_refactorings as ur\n",
    "import util_data_fetching_for_app as uda"
   ]
  },
  {
   "cell_type": "code",
   "execution_count": 10,
   "metadata": {},
   "outputs": [],
   "source": [
    "! gunzip ../../../data/diffengine-diffs/spark-output/nyt-matched-sentences.db.gz"
   ]
  },
  {
   "cell_type": "code",
   "execution_count": 11,
   "metadata": {},
   "outputs": [],
   "source": [
    "conn = sqlite3.connect('../data/nyt-matched-sentences.db')"
   ]
  },
  {
   "cell_type": "code",
   "execution_count": 61,
   "metadata": {},
   "outputs": [],
   "source": [
    "## please run the bottom cell first. Just shown here for brevity\n",
    "matched_sentences, split_sentences = uda.get_data_from_sqlite_by_sent_cutoffs(\n",
    "    source='nyt', conn=conn, high_sent_count=30, low_sent_count=3\n",
    ")"
   ]
  },
  {
   "cell_type": "code",
   "execution_count": 79,
   "metadata": {},
   "outputs": [],
   "source": [
    "keys = matched_sentences[['entry_id', 'version_x', 'version_y']].drop_duplicates()"
   ]
  },
  {
   "cell_type": "code",
   "execution_count": 100,
   "metadata": {},
   "outputs": [],
   "source": [
    "e, v_x, v_y = keys.iloc[11]\n",
    "\n",
    "df = (\n",
    "    matched_sentences\n",
    "    .loc[lambda df: df['entry_id'] == e]\n",
    "    .loc[lambda df: df['version_x'] == v_x]\n",
    "    .loc[lambda df: df['version_y'] == v_y]\n",
    ")\n",
    "\n",
    "refactors = ur.find_refactors_for_doc(\n",
    "    df[['entry_id', 'version_x', 'version_y', 'sent_idx_x', 'sent_idx_y']].dropna().astype(int)\n",
    ")"
   ]
  },
  {
   "cell_type": "code",
   "execution_count": 101,
   "metadata": {},
   "outputs": [
    {
     "data": {
      "text/plain": [
       "[(5, 15), (12, 6), (13, 7), (15, 8)]"
      ]
     },
     "execution_count": 101,
     "metadata": {},
     "output_type": "execute_result"
    }
   ],
   "source": [
    "refactors"
   ]
  },
  {
   "cell_type": "markdown",
   "metadata": {},
   "source": [
    "These are the two edges that demark refactored notes. They are joinable on sentence_idxs.\n",
    "\n",
    "So in other words, `sent_idx_x=[5, 12, ...]` are all refactored.\n",
    "\n",
    "We caution users that since refactors are relatively rare, they should reduce instances of false positives where possible. We encourage users to visualize the data using techniques described in other sections and to come up with other filtering rules (e.g. filter out all sentences that are `< k characters`) to avoid refactoring errors caused by sentence-parsing errors."
   ]
  }
 ],
 "metadata": {
  "hide_input": false,
  "kernelspec": {
   "display_name": "Python 3",
   "language": "python",
   "name": "python3"
  },
  "language_info": {
   "codemirror_mode": {
    "name": "ipython",
    "version": 3
   },
   "file_extension": ".py",
   "mimetype": "text/x-python",
   "name": "python",
   "nbconvert_exporter": "python",
   "pygments_lexer": "ipython3",
   "version": "3.7.6"
  }
 },
 "nbformat": 4,
 "nbformat_minor": 4
}
