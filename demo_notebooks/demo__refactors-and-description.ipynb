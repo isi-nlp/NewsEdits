{
 "cells": [
  {
   "cell_type": "markdown",
   "metadata": {},
   "source": [
    "# Refactors\n",
    "\n",
    "In the _NewsEdits_ paper, we describe an algorithm for identifying sentences that have been `refactor`ed, and we describe the algorithm described in Appendix F.1, https://aclanthology.org/2022.naacl-main.10.pdf. However, we don't come close to fully exploring this rich topic. \n",
    "\n",
    "A refactored sentence is a sentence that has been purposefully moved in the document."
   ]
  }
 ],
 "metadata": {
  "hide_input": false,
  "kernelspec": {
   "display_name": "Python 3",
   "language": "python",
   "name": "python3"
  },
  "language_info": {
   "codemirror_mode": {
    "name": "ipython",
    "version": 3
   },
   "file_extension": ".py",
   "mimetype": "text/x-python",
   "name": "python",
   "nbconvert_exporter": "python",
   "pygments_lexer": "ipython3",
   "version": "3.7.6"
  }
 },
 "nbformat": 4,
 "nbformat_minor": 4
}
